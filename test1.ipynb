{
  "nbformat": 4,
  "nbformat_minor": 0,
  "metadata": {
    "colab": {
      "name": "Untitled3.ipynb",
      "provenance": [],
      "authorship_tag": "ABX9TyOsqPs83L3oka2NZec5nTlq",
      "include_colab_link": true
    },
    "kernelspec": {
      "name": "python3",
      "display_name": "Python 3"
    }
  },
  "cells": [
    {
      "cell_type": "markdown",
      "metadata": {
        "id": "view-in-github",
        "colab_type": "text"
      },
      "source": [
        "<a href=\"https://colab.research.google.com/github/MoustHolmes/RL/blob/main/test1.ipynb\" target=\"_parent\"><img src=\"https://colab.research.google.com/assets/colab-badge.svg\" alt=\"Open In Colab\"/></a>"
      ]
    },
    {
      "cell_type": "code",
      "metadata": {
        "colab": {
          "base_uri": "https://localhost:8080/"
        },
        "id": "PnVQIPbtJUPn",
        "outputId": "181adab1-3c41-4460-e533-7d2e5a4d846b"
      },
      "source": [
        "from google.colab import drive\r\n",
        "from os.path import join\r\n",
        "\r\n",
        "ROOT = '/content/drive'     # default for the drive\r\n",
        "PROJ = 'My Drive/Reinforcement Learning'       # path to your project on Drive\r\n",
        "\r\n",
        "\r\n",
        "drive.mount(ROOT)           # we mount the drive at /content/drive\r\n",
        "\r\n",
        "# PROJECT_PATH = join(ROOT, PROJ)\r\n",
        "# !mkdir \"{PROJECT_PATH}\"     # in case we haven't created it already   \r\n",
        "\r\n",
        "GIT_PATH = \"https://github.com/MoustHolmes/RL.git\"\r\n",
        "# !mkdir ./temp\r\n",
        "!git clone \"{GIT_PATH}\"\r\n",
        "# !mv ./temp/* \"{PROJECT_PATH}\"\r\n",
        "# !rm -rf ./temp\r\n",
        "# !rsync -aP --exclude=data/ \"{PROJECT_PATH}\"/*  ./"
      ],
      "execution_count": 1,
      "outputs": [
        {
          "output_type": "stream",
          "text": [
            "Mounted at /content/drive\n",
            "Cloning into 'RL'...\n",
            "remote: Enumerating objects: 3, done.\u001b[K\n",
            "remote: Counting objects: 100% (3/3), done.\u001b[K\n",
            "remote: Total 3 (delta 0), reused 0 (delta 0), pack-reused 0\n",
            "Unpacking objects: 100% (3/3), done.\n"
          ],
          "name": "stdout"
        }
      ]
    }
  ]
}